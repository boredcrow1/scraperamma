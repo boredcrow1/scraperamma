{
 "cells": [
  {
   "cell_type": "code",
   "execution_count": 1,
   "metadata": {},
   "outputs": [],
   "source": [
    "import requests\n",
    "from bs4 import BeautifulSoup\n",
    "from urllib.parse import urljoin\n",
    "from selenium import webdriver\n",
    "from selenium.webdriver.firefox.service import Service as FirefoxService\n",
    "from selenium.webdriver.firefox.options import Options\n",
    "from selenium.webdriver.common.by import By\n",
    "from urllib.parse import urlparse\n",
    "import os\n",
    "import pandas as pd"
   ]
  },
  {
   "cell_type": "code",
   "execution_count": 2,
   "metadata": {},
   "outputs": [],
   "source": [
    "def get_links(url):\n",
    "  response = requests.get(url)\n",
    "  soup = BeautifulSoup(response.text, 'html.parser')\n",
    "  trt=[urljoin(url, a['href']) for a in soup.find_all('a', href=True)]\n",
    "  trt=list(set(trt))\n",
    "  return trt"
   ]
  },
  {
   "cell_type": "code",
   "execution_count": 3,
   "metadata": {},
   "outputs": [],
   "source": [
    "from selenium.common.exceptions import StaleElementReferenceException\n",
    "from selenium.webdriver.common.by import By\n",
    "from selenium.webdriver.support.ui import WebDriverWait\n",
    "from selenium.webdriver.support import expected_conditions as EC"
   ]
  },
  {
   "cell_type": "code",
   "execution_count": 4,
   "metadata": {},
   "outputs": [],
   "source": [
    "def get_content(url, lst, linklst):\n",
    "   options = Options()\n",
    "   options.add_argument(\"--headless\")\n",
    "   driver = webdriver.Firefox(service=FirefoxService('/snap/bin/geckodriver'), options=options)\n",
    "   driver.get(url)\n",
    "   all_elements = driver.find_elements(By.TAG_NAME, \"*\")\n",
    "   img_elements = driver.find_elements(By.TAG_NAME, \"\")\n",
    "   for index, element in enumerate(all_elements):\n",
    "       lst.append((element.text).replace(\"\\n\", \" \"))\n",
    "   driver.quit()\n",
    "   lst=list(set(lst))\n",
    "   parsed_url = urlparse(url)\n",
    "   path= parsed_url.path\n",
    "   path=(path).replace(\"/\",\"~\")\n",
    "   filename=\"./source_documents/\"+path\n",
    "   filename+=\".txt\"\n",
    "   with open(filename, 'w') as file:\n",
    "       for item in lst:\n",
    "           file.write(\"%s\\n\" % item)\n",
    "   lst=[]\n",
    "   lst.append(filename)\n",
    "   linklst.append(url)\n",
    "   return list(zip(lst, linklst))"
   ]
  },
  {
   "cell_type": "code",
   "execution_count": 5,
   "metadata": {},
   "outputs": [],
   "source": [
    "def main(url):\n",
    " lst = []\n",
    " linklst = []\n",
    " count=0\n",
    " urls=get_links(url)\n",
    " df = pd.DataFrame(columns=['content', 'link']) # Initialize an empty DataFrame\n",
    " for url in urls:\n",
    "     count+=1\n",
    "     dfs = get_content(url, lst, linklst)\n",
    "     dfs = pd.DataFrame(dfs, columns=['content', 'link']) # Convert the list of tuples to a DataFrame\n",
    "     df = pd.concat([df, dfs], ignore_index=True) # Concatenate the DataFrame to df\n",
    " return df"
   ]
  },
  {
   "cell_type": "code",
   "execution_count": null,
   "metadata": {},
   "outputs": [],
   "source": [
    "lst=[]\n",
    "linklst=[]\n",
    "dfs = get_content(\"https://cognizant.com/in/en\", lst, linklst)"
   ]
  },
  {
   "cell_type": "code",
   "execution_count": null,
   "metadata": {},
   "outputs": [],
   "source": [
    "dfs"
   ]
  },
  {
   "cell_type": "code",
   "execution_count": 6,
   "metadata": {},
   "outputs": [
    {
     "name": "stdout",
     "output_type": "stream",
     "text": [
      "['https://www.cognizant.com/in/en/insights/modern-business', 'https://www.cognizant.com/ch/fr', 'https://digitally.cognizant.com/home', 'https://www.cognizant.com/in/en/industries/cmt-solutions', 'https://www.cognizant.com/hu/en', 'https://www.cognizant.com/de/de', 'https://www.cognizant.com/uk/en', 'https://www.cognizant.com/in/en/insights/tech-to-watch', 'https://www.cognizant.com/in/en', 'https://www.cognizant.com/us/en', 'https://www.cognizant.com/in/en/about-cognizant/client-briefing-program', 'https://www.cognizant.com/in/en/industries/life-sciences-technology-solutions', 'https://www.cognizant.com/in/en/industries/manufacturing-technology-solutions', 'https://www.cognizant.com/in/en/industries/banking-technology-solutions', 'https://www.cognizant.com/en_us/general/documents/everest-group-peak-matrix-for-quality-assurance-service-providers-2021-focus-on-cognizant.pdf', 'https://www.youtube.com/cognizant', 'https://www.cognizant.com/in/en/industries/utilities-digital-solutions', 'https://www.cognizant.com/in/en#value-prop', 'https://www.cognizant.com/in/en/services/software-product-engineering', 'https://www.cognizant.com/in/en/about-cognizant/corporate-governance/board-of-directors', 'https://www.cognizant.com/in/en/about-cognizant/talent-worldwide', 'https://policies.google.com/terms', 'https://www.cognizant.com/in/en/industries/insurance-digital-transformation', 'https://www.cognizant.com/mx/en', 'https://www.cognizant.com/in/en/insights/sustainability-resilience', 'https://www.cognizant.com/in/en/services/core-application-modernization', 'javascript:void(0)', 'https://www.cognizant.com/dk/en', 'https://www.cognizant.com/in/en/information-for-suppliers', 'https://www.cognizant.com/in/en/industries/oil-gas-digital-solutions', 'https://www.cognizant.com/in/en/industries/healthcare-technology-solutions', 'https://www.cognizant.com/jp/ja', 'https://www.cognizant.com/in/en/industries/capital-markets-technology-solutions', 'https://www.cognizant.com/us/en/intuition-engineered/modernize-technology', 'https://www.cognizant.com/hk/en', 'https://www.cognizant.com/in/en/about-cognizant/sponsorships', 'https://www.cognizant.com/us/en/intuition-engineered', 'https://www.cognizant.com/us/en/about-cognizant/contact-us', 'https://www.cognizant.com/in/en/insights/the-work-ahead', 'https://www.cognizant.com/us/en/services/ai', 'https://www.cognizant.com/in/en/about-cognizant/partners', 'https://www.cognizant.com/no/en', 'https://www.cognizant.com/au/en', 'https://www.cognizant.com/sg/en', 'https://www.cognizant.com/in/en/industries/information-services-digital-solutions', 'https://www.cognizant.com/in/en#skipToMainContent', 'https://www.cognizant.com/in/en/industries/travel-hospitality-digital-strategies', 'https://www.cognizant.com/in/en/about-cognizant/diversity-and-inclusion', 'https://www.cognizant.com/in/en/services/ai', 'https://www.cognizant.com/in/en/insights/tech-to-watch/generative-ai', 'https://www.cognizant.com/in/en/services/cybersecurity-services', 'https://www.cognizant.com/in/en/insights/perspectives/what-it-will-take-to-build-the-city-of-the-future-wf1505521', 'https://www.cognizant.com/publications/future-of-us/the-future-of-us-navigating-the-net-zero-era/', 'https://www.cognizant.com/us/en/services/consulting', 'https://www.instagram.com/cognizant', 'https://investors.cognizant.com/', 'https://www.cognizant.com/in/en/industries/consumer-goods', 'https://www.cognizant.com/in/en/services/sustainability-services', 'https://www.cognizant.com/us/en/intuition-engineered/experience-transformation', 'https://www.cognizant.com/nz/en', 'https://www.cognizant.com/ca/en', 'https://www.cognizant.com/ae/en', 'https://www.cognizant.com/cn/zh', 'https://www.cognizant.com/in/en/services/business-process-services', 'https://www.cognizant.com/in/en/about-cognizant/public-policy', 'https://www.cognizant.com/in/en/services/intelligent-process-automation', 'https://www.cognizant.com/in/en/services/cloud-solutions', 'https://www.cognizant.com/in/en/sitemap', 'https://www.cognizant.com/lv/en', 'https://news.cognizant.com', 'https://www.cognizant.com/in/en/services/infrastructure-services', 'https://www.cognizant.com/us/en/locations', 'https://www.cognizant.com/be/nl', 'https://www.cognizant.com/us/en/publications/metaverse-guide/', 'https://www.cognizant.com/in/en/case-studies', 'https://policies.google.com/privacy', 'https://www.cognizant.com/us/en/services/application-services-and-modernization', 'https://www.cognizant.com/in/en/about-cognizant/corporate-governance/leadership-team', 'https://www.cognizant.com/thailand', 'https://www.cognizant.com/in/en/terms-conditions', 'https://www.cognizant.com/pl/en', 'https://www.cognizant.com/ch/en', 'https://www.cognizant.com/ro/en', 'https://www.cognizant.com/in/en/cookie-notice', 'https://www.facebook.com/Cognizant', 'https://www.cognizant.com/in/en/industries/transportation-logistics-technology-solutions', 'https://www.linkedin.com/company/cognizant', 'https://twitter.com/cognizant', 'https://www.cognizant.com/in/en/services/digital-experience', 'https://news.cognizant.com/', 'https://www.cognizant.com/be/en', 'https://www.cognizant.com/us/en/aem-i/future-ready-ai', 'https://www.cognizant.com/cn/en', 'https://soundcloud.com/cognizant-worldwide', 'https://be.cognizant.com/', 'https://careers.cognizant.com/global/en', 'https://www.cognizant.com/us/en/case-studies/contact-center-digital-transformation', 'https://www.cognizant.com/nl/nl', 'https://careers.cognizant.com/in/en', 'https://www.cognizant.com/fr/fr', 'https://www.cognizant.com/in/en/about-cognizant/2022-annual-report', 'https://www.cognizant.com/in/en/about-cognizant', 'https://www.cognizant.com/in/en/glossary', 'https://www.cognizant.com/us/en/insights/tech-to-watch/generative-ai#spy-reinventing-work', 'https://www.cognizant.com/in/en/services/digital-strategy', 'https://www.cognizant.com/no/nb', 'https://www.cognizant.com/publications/economist-future-ready/ecofuture-ready/', 'https://www.cognizant.com/it/it', 'https://www.cognizant.com/in/en/industries/retail-technology-solutions', 'https://www.cognizant.com/in/en/services/enterprise-quality-engineering-assurance', 'https://www.cognizant.com/us/en/intuition-engineered/intelligent-processes', 'https://www.cognizant.com/se/en', 'https://news.cognizant.com/Cognizant-Named-Among-LinkedIn-Top-Companies-in-North-America,-Europe,-and-Asia', 'https://www.cognizant.com/in/en/intuition-engineered', 'https://www.cognizant.com/ca/fr', 'https://www.cognizant.com/in/en/services/enterprise-application-services', 'https://www.cognizant.com/in/en/services/enterprise-application-services#spy-isg-leader', 'https://www.cognizant.com/us/en/insights/sustainability-resilience', 'https://www.cognizant.com/deepgreen', 'https://www.cognizant.com/in/en/about-cognizant/esg', 'https://www.cognizant.com/in/en/privacy-notice', 'https://www.cognizant.com/in/en/about-cognizant/culture-and-values', 'https://www.cognizant.com/es/es', 'https://www.cognizant.com/us/en/services/cloud-solutions', 'https://www.cognizant.com/in/en/insights', 'https://www.cognizant.com/pt/pt', 'https://www.cognizant.com/in/en/about-cognizant/corporate-governance', 'https://www.cognizant.com/in/en/industries/automotive-technology-solutions', 'https://www.cognizant.com/in/en/services/iot-solutions', 'https://www.cognizant.com/in/en/services/application-services-and-modernization', 'https://www.cognizant.com/in/en/about-cognizant/contact-us', 'https://www.cognizant.com/be/fr', 'https://www.cognizant.com/se/sv', 'https://www.cognizant.com/my/en', 'https://www.cognizant.com/in/en/services/consulting', 'https://www.cognizant.com/in/en/industries/education-technology-solutions', 'https://www.cognizant.com/in/en/insights/perspectives/green-business-an-economic-necessity-and-boon', 'https://www.cognizant.com/in/en#skipToFooter', 'https://www.cognizant.com/ch/de', 'https://www.cognizant.com/ph/en', 'https://www.cognizant.com/lt/en', 'https://www.cognizant.com/us/en/case-studies/barry-callebaut-employee-experience-strategy']\n"
     ]
    }
   ],
   "source": [
    "print(get_links('https://www.cognizant.com/in/en'))"
   ]
  },
  {
   "cell_type": "code",
   "execution_count": 10,
   "metadata": {},
   "outputs": [
    {
     "ename": "StaleElementReferenceException",
     "evalue": "Message: The element with the reference 54b9f199-533e-4dcf-b3b4-202d90585a6e is stale; either its node document is not the active document, or it is no longer connected to the DOM; For documentation on this error, please visit: https://www.selenium.dev/documentation/webdriver/troubleshooting/errors#stale-element-reference-exception\nStacktrace:\nRemoteError@chrome://remote/content/shared/RemoteError.sys.mjs:8:8\nWebDriverError@chrome://remote/content/shared/webdriver/Errors.sys.mjs:187:5\nStaleElementReferenceError@chrome://remote/content/shared/webdriver/Errors.sys.mjs:659:5\ngetKnownElement@chrome://remote/content/marionette/json.sys.mjs:288:11\ndeserializeJSON@chrome://remote/content/marionette/json.sys.mjs:235:20\ncloneObject@chrome://remote/content/marionette/json.sys.mjs:56:24\ndeserializeJSON@chrome://remote/content/marionette/json.sys.mjs:242:16\njson.deserialize@chrome://remote/content/marionette/json.sys.mjs:246:10\nreceiveMessage@chrome://remote/content/marionette/actors/MarionetteCommandsChild.sys.mjs:74:30\n",
     "output_type": "error",
     "traceback": [
      "\u001b[0;31m---------------------------------------------------------------------------\u001b[0m",
      "\u001b[0;31mStaleElementReferenceException\u001b[0m            Traceback (most recent call last)",
      "\u001b[1;32m/home/bored/linkstuff/test.ipynb Cell 9\u001b[0m line \u001b[0;36m1\n\u001b[0;32m----> <a href='vscode-notebook-cell:/home/bored/linkstuff/test.ipynb#X10sZmlsZQ%3D%3D?line=0'>1</a>\u001b[0m tryer\u001b[39m=\u001b[39mmain(\u001b[39m'\u001b[39;49m\u001b[39mhttps://www.cognizant.com/in/en\u001b[39;49m\u001b[39m'\u001b[39;49m)\n",
      "\u001b[1;32m/home/bored/linkstuff/test.ipynb Cell 9\u001b[0m line \u001b[0;36m9\n\u001b[1;32m      <a href='vscode-notebook-cell:/home/bored/linkstuff/test.ipynb#X10sZmlsZQ%3D%3D?line=6'>7</a>\u001b[0m \u001b[39mfor\u001b[39;00m url \u001b[39min\u001b[39;00m urls:\n\u001b[1;32m      <a href='vscode-notebook-cell:/home/bored/linkstuff/test.ipynb#X10sZmlsZQ%3D%3D?line=7'>8</a>\u001b[0m     count\u001b[39m+\u001b[39m\u001b[39m=\u001b[39m\u001b[39m1\u001b[39m\n\u001b[0;32m----> <a href='vscode-notebook-cell:/home/bored/linkstuff/test.ipynb#X10sZmlsZQ%3D%3D?line=8'>9</a>\u001b[0m     dfs \u001b[39m=\u001b[39m get_content(url, lst, linklst)\n\u001b[1;32m     <a href='vscode-notebook-cell:/home/bored/linkstuff/test.ipynb#X10sZmlsZQ%3D%3D?line=9'>10</a>\u001b[0m     dfs \u001b[39m=\u001b[39m pd\u001b[39m.\u001b[39mDataFrame(dfs, columns\u001b[39m=\u001b[39m[\u001b[39m'\u001b[39m\u001b[39mcontent\u001b[39m\u001b[39m'\u001b[39m, \u001b[39m'\u001b[39m\u001b[39mlink\u001b[39m\u001b[39m'\u001b[39m]) \u001b[39m# Convert the list of tuples to a DataFrame\u001b[39;00m\n\u001b[1;32m     <a href='vscode-notebook-cell:/home/bored/linkstuff/test.ipynb#X10sZmlsZQ%3D%3D?line=10'>11</a>\u001b[0m     df \u001b[39m=\u001b[39m pd\u001b[39m.\u001b[39mconcat([df, dfs], ignore_index\u001b[39m=\u001b[39m\u001b[39mTrue\u001b[39;00m) \u001b[39m# Concatenate the DataFrame to df\u001b[39;00m\n",
      "\u001b[1;32m/home/bored/linkstuff/test.ipynb Cell 9\u001b[0m line \u001b[0;36m9\n\u001b[1;32m      <a href='vscode-notebook-cell:/home/bored/linkstuff/test.ipynb#X10sZmlsZQ%3D%3D?line=6'>7</a>\u001b[0m img_elements \u001b[39m=\u001b[39m driver\u001b[39m.\u001b[39mfind_elements(By\u001b[39m.\u001b[39mTAG_NAME, \u001b[39m\"\u001b[39m\u001b[39m\"\u001b[39m)\n\u001b[1;32m      <a href='vscode-notebook-cell:/home/bored/linkstuff/test.ipynb#X10sZmlsZQ%3D%3D?line=7'>8</a>\u001b[0m \u001b[39mfor\u001b[39;00m index, element \u001b[39min\u001b[39;00m \u001b[39menumerate\u001b[39m(all_elements):\n\u001b[0;32m----> <a href='vscode-notebook-cell:/home/bored/linkstuff/test.ipynb#X10sZmlsZQ%3D%3D?line=8'>9</a>\u001b[0m     lst\u001b[39m.\u001b[39mappend((element\u001b[39m.\u001b[39;49mtext)\u001b[39m.\u001b[39mreplace(\u001b[39m\"\u001b[39m\u001b[39m\\n\u001b[39;00m\u001b[39m\"\u001b[39m, \u001b[39m\"\u001b[39m\u001b[39m \u001b[39m\u001b[39m\"\u001b[39m))\n\u001b[1;32m     <a href='vscode-notebook-cell:/home/bored/linkstuff/test.ipynb#X10sZmlsZQ%3D%3D?line=9'>10</a>\u001b[0m driver\u001b[39m.\u001b[39mquit()\n\u001b[1;32m     <a href='vscode-notebook-cell:/home/bored/linkstuff/test.ipynb#X10sZmlsZQ%3D%3D?line=10'>11</a>\u001b[0m lst\u001b[39m=\u001b[39m\u001b[39mlist\u001b[39m(\u001b[39mset\u001b[39m(lst))\n",
      "File \u001b[0;32m~/.local/lib/python3.10/site-packages/selenium/webdriver/remote/webelement.py:89\u001b[0m, in \u001b[0;36mWebElement.text\u001b[0;34m(self)\u001b[0m\n\u001b[1;32m     86\u001b[0m \u001b[39m@property\u001b[39m\n\u001b[1;32m     87\u001b[0m \u001b[39mdef\u001b[39;00m \u001b[39mtext\u001b[39m(\u001b[39mself\u001b[39m) \u001b[39m-\u001b[39m\u001b[39m>\u001b[39m \u001b[39mstr\u001b[39m:\n\u001b[1;32m     88\u001b[0m \u001b[39m    \u001b[39m\u001b[39m\"\"\"The text of the element.\"\"\"\u001b[39;00m\n\u001b[0;32m---> 89\u001b[0m     \u001b[39mreturn\u001b[39;00m \u001b[39mself\u001b[39;49m\u001b[39m.\u001b[39;49m_execute(Command\u001b[39m.\u001b[39;49mGET_ELEMENT_TEXT)[\u001b[39m\"\u001b[39m\u001b[39mvalue\u001b[39m\u001b[39m\"\u001b[39m]\n",
      "File \u001b[0;32m~/.local/lib/python3.10/site-packages/selenium/webdriver/remote/webelement.py:394\u001b[0m, in \u001b[0;36mWebElement._execute\u001b[0;34m(self, command, params)\u001b[0m\n\u001b[1;32m    392\u001b[0m     params \u001b[39m=\u001b[39m {}\n\u001b[1;32m    393\u001b[0m params[\u001b[39m\"\u001b[39m\u001b[39mid\u001b[39m\u001b[39m\"\u001b[39m] \u001b[39m=\u001b[39m \u001b[39mself\u001b[39m\u001b[39m.\u001b[39m_id\n\u001b[0;32m--> 394\u001b[0m \u001b[39mreturn\u001b[39;00m \u001b[39mself\u001b[39;49m\u001b[39m.\u001b[39;49m_parent\u001b[39m.\u001b[39;49mexecute(command, params)\n",
      "File \u001b[0;32m~/.local/lib/python3.10/site-packages/selenium/webdriver/remote/webdriver.py:347\u001b[0m, in \u001b[0;36mWebDriver.execute\u001b[0;34m(self, driver_command, params)\u001b[0m\n\u001b[1;32m    345\u001b[0m response \u001b[39m=\u001b[39m \u001b[39mself\u001b[39m\u001b[39m.\u001b[39mcommand_executor\u001b[39m.\u001b[39mexecute(driver_command, params)\n\u001b[1;32m    346\u001b[0m \u001b[39mif\u001b[39;00m response:\n\u001b[0;32m--> 347\u001b[0m     \u001b[39mself\u001b[39;49m\u001b[39m.\u001b[39;49merror_handler\u001b[39m.\u001b[39;49mcheck_response(response)\n\u001b[1;32m    348\u001b[0m     response[\u001b[39m\"\u001b[39m\u001b[39mvalue\u001b[39m\u001b[39m\"\u001b[39m] \u001b[39m=\u001b[39m \u001b[39mself\u001b[39m\u001b[39m.\u001b[39m_unwrap_value(response\u001b[39m.\u001b[39mget(\u001b[39m\"\u001b[39m\u001b[39mvalue\u001b[39m\u001b[39m\"\u001b[39m, \u001b[39mNone\u001b[39;00m))\n\u001b[1;32m    349\u001b[0m     \u001b[39mreturn\u001b[39;00m response\n",
      "File \u001b[0;32m~/.local/lib/python3.10/site-packages/selenium/webdriver/remote/errorhandler.py:229\u001b[0m, in \u001b[0;36mErrorHandler.check_response\u001b[0;34m(self, response)\u001b[0m\n\u001b[1;32m    227\u001b[0m         alert_text \u001b[39m=\u001b[39m value[\u001b[39m\"\u001b[39m\u001b[39malert\u001b[39m\u001b[39m\"\u001b[39m]\u001b[39m.\u001b[39mget(\u001b[39m\"\u001b[39m\u001b[39mtext\u001b[39m\u001b[39m\"\u001b[39m)\n\u001b[1;32m    228\u001b[0m     \u001b[39mraise\u001b[39;00m exception_class(message, screen, stacktrace, alert_text)  \u001b[39m# type: ignore[call-arg]  # mypy is not smart enough here\u001b[39;00m\n\u001b[0;32m--> 229\u001b[0m \u001b[39mraise\u001b[39;00m exception_class(message, screen, stacktrace)\n",
      "\u001b[0;31mStaleElementReferenceException\u001b[0m: Message: The element with the reference 54b9f199-533e-4dcf-b3b4-202d90585a6e is stale; either its node document is not the active document, or it is no longer connected to the DOM; For documentation on this error, please visit: https://www.selenium.dev/documentation/webdriver/troubleshooting/errors#stale-element-reference-exception\nStacktrace:\nRemoteError@chrome://remote/content/shared/RemoteError.sys.mjs:8:8\nWebDriverError@chrome://remote/content/shared/webdriver/Errors.sys.mjs:187:5\nStaleElementReferenceError@chrome://remote/content/shared/webdriver/Errors.sys.mjs:659:5\ngetKnownElement@chrome://remote/content/marionette/json.sys.mjs:288:11\ndeserializeJSON@chrome://remote/content/marionette/json.sys.mjs:235:20\ncloneObject@chrome://remote/content/marionette/json.sys.mjs:56:24\ndeserializeJSON@chrome://remote/content/marionette/json.sys.mjs:242:16\njson.deserialize@chrome://remote/content/marionette/json.sys.mjs:246:10\nreceiveMessage@chrome://remote/content/marionette/actors/MarionetteCommandsChild.sys.mjs:74:30\n"
     ]
    }
   ],
   "source": [
    "tryer=main('https://www.cognizant.com/in/en')"
   ]
  },
  {
   "cell_type": "code",
   "execution_count": null,
   "metadata": {},
   "outputs": [],
   "source": [
    "tryer.head()"
   ]
  },
  {
   "cell_type": "code",
   "execution_count": null,
   "metadata": {},
   "outputs": [],
   "source": []
  }
 ],
 "metadata": {
  "kernelspec": {
   "display_name": "Python 3",
   "language": "python",
   "name": "python3"
  },
  "language_info": {
   "codemirror_mode": {
    "name": "ipython",
    "version": 3
   },
   "file_extension": ".py",
   "mimetype": "text/x-python",
   "name": "python",
   "nbconvert_exporter": "python",
   "pygments_lexer": "ipython3",
   "version": "3.10.12"
  }
 },
 "nbformat": 4,
 "nbformat_minor": 2
}
